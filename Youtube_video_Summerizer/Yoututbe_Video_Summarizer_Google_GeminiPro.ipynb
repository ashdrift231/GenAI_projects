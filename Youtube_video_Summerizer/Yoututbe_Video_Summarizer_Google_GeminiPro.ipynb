{
  "nbformat": 4,
  "nbformat_minor": 0,
  "metadata": {
    "colab": {
      "provenance": [],
      "gpuType": "T4"
    },
    "kernelspec": {
      "name": "python3",
      "display_name": "Python 3"
    },
    "language_info": {
      "name": "python"
    },
    "accelerator": "GPU"
  },
  "cells": [
    {
      "cell_type": "markdown",
      "source": [
        "# Install dependencies from requirements.txt"
      ],
      "metadata": {
        "id": "0eEng_wvJQLw"
      }
    },
    {
      "cell_type": "code",
      "execution_count": null,
      "metadata": {
        "id": "fpZFti2WCFPs"
      },
      "outputs": [],
      "source": [
        "!pip install -r /content/requirements.txt"
      ]
    },
    {
      "cell_type": "markdown",
      "source": [
        "# Configure the generative AI model with the API key\n",
        "\n",
        "# Replace with your actual API key if not using environment variables"
      ],
      "metadata": {
        "id": "2-SqcJxSJWe3"
      }
    },
    {
      "cell_type": "code",
      "source": [
        "# Import necessary libraries\n",
        "import streamlit as st\n",
        "import os\n",
        "import google.generativeai as genai\n",
        "from youtube_transcript_api import YouTubeTranscriptApi\n",
        "\n",
        "genai.configure(api_key=\"your_api_key\")"
      ],
      "metadata": {
        "id": "Kv3ghng7Casw"
      },
      "execution_count": 6,
      "outputs": []
    },
    {
      "cell_type": "code",
      "source": [
        "# Define the prompt for the AI model\n",
        "prompt=\"\"\"You are Yotube video summarizer. You will be taking the transcript text\n",
        "and summarizing the entire video and providing the important summary in points\n",
        "within 250 words. Please provide the summary of the text given here:  \"\"\""
      ],
      "metadata": {
        "id": "Ln27UGB8ERdY"
      },
      "execution_count": 7,
      "outputs": []
    },
    {
      "cell_type": "markdown",
      "source": [
        "Streamlit app code Setup"
      ],
      "metadata": {
        "id": "qFfs2L0FJkT1"
      }
    },
    {
      "cell_type": "code",
      "source": [
        "# Set the title of the Streamlit app\n",
        "st.title(\"Youtube Video Summarizer\")\n",
        "# Create a text input field for the YouTube video URL\n",
        "yt_url = st.text_input(\"Enter the youtube video URL\")\n",
        "\n",
        "# Check if the input URL is not empty and contains '='\n",
        "if yt_url and \"=\" in yt_url:\n",
        "    # Extract the video ID from the URL\n",
        "    video_id = yt_url.split(\"=\")[1]\n",
        "    print(video_id)\n",
        "    st.image(f\"http://img.youtube.com/vi/{video_id}/0.jpg\", use_column_width=True)\n",
        "\n",
        "     # Define a function to extract the transcript\n",
        "    def extract_transcript(video_id):\n",
        "        transcript_list = YouTubeTranscriptApi.get_transcript(video_id)\n",
        "        transcript = \" \".join([d['text'] for d in transcript_list])\n",
        "        return transcript\n",
        "\n",
        "    # Define a function to generate the summary using the AI model\n",
        "    def generate_summary(transcript,prompt):\n",
        "        llm = genai.GenerativeModel('gemini_pro')\n",
        "        response = llm.generate_content(prompt + transcript)\n",
        "        return response.text\n",
        "\n",
        "    # Create a button to trigger the summarization\n",
        "    if st.button(\"Summarize\"):\n",
        "        transcript = extract_transcript(video_id)\n",
        "        summary = generate_summary(transcript,prompt)\n",
        "        st.markdown(\"Here's the Video Summary\")\n",
        "        st.write(summary)\n",
        "\n",
        "else:\n",
        "    # Optionally display a message to the user if the URL is invalid\n",
        "    st.warning(\"Please enter a valid YouTube video URL.\")"
      ],
      "metadata": {
        "id": "bQjgMzVLEx23"
      },
      "execution_count": null,
      "outputs": []
    },
    {
      "cell_type": "code",
      "source": [],
      "metadata": {
        "id": "a71Yh7MvHbKo"
      },
      "execution_count": null,
      "outputs": []
    }
  ]
}