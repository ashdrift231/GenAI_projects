{
  "nbformat": 4,
  "nbformat_minor": 0,
  "metadata": {
    "colab": {
      "provenance": [],
      "gpuType": "T4"
    },
    "kernelspec": {
      "name": "python3",
      "display_name": "Python 3"
    },
    "language_info": {
      "name": "python"
    },
    "accelerator": "GPU"
  },
  "cells": [
    {
      "cell_type": "code",
      "source": [
        "# Install required libraries\n",
        "%pip install --quiet --upgrade langchain-text-splitters langchain-community langgraph"
      ],
      "metadata": {
        "id": "UnaAh1pN9zCX"
      },
      "execution_count": null,
      "outputs": []
    },
    {
      "cell_type": "code",
      "source": [
        "!pip install -qU \"langchain-nvidia-ai-endpoints\"\n",
        "!pip install -qU langchain-astradb\n",
        "!pip install PyPDF2 pypdf"
      ],
      "metadata": {
        "id": "tk9tU2K09z3E"
      },
      "execution_count": null,
      "outputs": []
    },
    {
      "cell_type": "code",
      "source": [
        "# Get API keys and endpoints from Colab userdata\n",
        "from google.colab import userdata\n",
        "key = userdata.get('llm_projects')\n",
        "db_api_endpoint = userdata.get('ASTRA_DB_API_ENDPOINT')\n",
        "db_application_token = userdata.get('ASTRA_DB_APPLICATION_TOKEN')\n",
        "langsmith_api_key = userdata.get('LANGSMITH_API_KEY')\n",
        "\n",
        "import os\n",
        "os.environ[\"NVIDIA_API_TOKEN\"] = key\n",
        "os.environ[\"LANGCHAIN_TRACING\"] = \"true\"\n",
        "os.environ[\"LANGCHAIN_ENDPOINT\"] = \"https://api.smith.langchain.com\"\n",
        "os.environ[\"LANGCHAIN_API_KEY\"] = langsmith_api_key"
      ],
      "metadata": {
        "id": "HE1REDLMnl8g"
      },
      "execution_count": null,
      "outputs": []
    },
    {
      "cell_type": "code",
      "source": [
        "# Import and initialize ChatNVIDIA model\n",
        "from langchain_nvidia_ai_endpoints import ChatNVIDIA, NVIDIAEmbeddings\n",
        "\n",
        "client = ChatNVIDIA(\n",
        "  model=\"meta/llama3-70b-instruct\",\n",
        "  api_key=key,\n",
        "  temperature=0.5,\n",
        "  top_p=1,\n",
        "  max_tokens=1024,\n",
        ")\n",
        "\n",
        "#checking....\n",
        "for chunk in client.stream([{\"role\":\"user\",\"content\":\"what is an AI agent?\"}]):\n",
        "  print(chunk.content, end=\"\")\n",
        "\n",
        "#Initialize NVIDIA embeddings\n",
        "embeddings = NVIDIAEmbeddings(model=\"NV-Embed-QA\", api_key=key)"
      ],
      "metadata": {
        "id": "1WWTKkaD-cw5"
      },
      "execution_count": null,
      "outputs": []
    },
    {
      "cell_type": "code",
      "source": [
        "# Import necessary libraries for RAG\n",
        "from langchain_community.document_loaders import PyPDFLoader\n",
        "from langchain_text_splitters import RecursiveCharacterTextSplitter\n",
        "from langchain_astradb import AstraDBVectorStore\n",
        "\n",
        "# Load PDF\n",
        "loader = PyPDFLoader(\"22365_19_Agents_v8.pdf\")\n",
        "docs = loader.load()\n",
        "\n",
        "# Split documents into chunks\n",
        "text_splitter = RecursiveCharacterTextSplitter(chunk_size=500, chunk_overlap=200)\n",
        "doc_chunks = text_splitter.split_documents(docs)\n",
        "\n",
        "# Initialize AstraDB Vector Store\n",
        "vector_store = AstraDBVectorStore(\n",
        "    embedding=embeddings,\n",
        "    api_endpoint=db_api_endpoint,\n",
        "    collection_name=\"rag_db\",\n",
        "    token=db_application_token,\n",
        ")\n",
        "\n",
        "# Add document chunks to the vector store\n",
        "_ = vector_store.add_documents(documents=doc_chunks)"
      ],
      "metadata": {
        "id": "At3Evj6YBkZf"
      },
      "execution_count": null,
      "outputs": []
    },
    {
      "cell_type": "code",
      "source": [
        "from langchain import hub\n",
        "from langgraph.graph import START, StateGraph\n",
        "from typing_extensions import List, TypedDict\n",
        "from langchain_core.documents import Document\n",
        "\n",
        "# Pull RAG prompt from the hub\n",
        "prompt = hub.pull(\"rlm/rag-prompt\")\n",
        "\n",
        "# Define state for the RAG application\n",
        "class State(TypedDict):\n",
        "    question: str\n",
        "    context: List[Document]\n",
        "    answer: str\n",
        "\n",
        "# Define retrieve step for the RAG application\n",
        "def retrieve(state: State):\n",
        "    retrieved_docs = vector_store.similarity_search(state[\"question\"])\n",
        "    return {\"context\": retrieved_docs}\n",
        "\n",
        "# Define generate step for the RAG application\n",
        "def generate(state: State):\n",
        "    docs_content = \"\\n\\n\".join(doc.page_content for doc in state[\"context\"])\n",
        "    messages = prompt.invoke({\"question\": state[\"question\"], \"context\": docs_content})\n",
        "    response = client.invoke(messages)\n",
        "    return {\"answer\": response.content}\n",
        "\n",
        "\n",
        "# Compile the RAG application graph\n",
        "graph_builder = StateGraph(State).add_sequence([retrieve, generate])\n",
        "graph_builder.add_edge(START, \"retrieve\")\n",
        "graph = graph_builder.compile()"
      ],
      "metadata": {
        "colab": {
          "base_uri": "https://localhost:8080/"
        },
        "id": "odHv_G8yCSGn",
        "outputId": "f7447fb5-4ebe-46d2-ba75-e73dcf44b7f4"
      },
      "execution_count": null,
      "outputs": [
        {
          "output_type": "stream",
          "name": "stderr",
          "text": [
            "/usr/local/lib/python3.11/dist-packages/langsmith/client.py:272: LangSmithMissingAPIKeyWarning: API key must be provided when using hosted LangSmith API\n",
            "  warnings.warn(\n"
          ]
        }
      ]
    },
    {
      "cell_type": "code",
      "source": [
        "# Invoke the RAG graph with a question and print the response\n",
        "response = graph.invoke({\"question\": \"What is an agent?\"})\n",
        "print(response[\"answer\"])"
      ],
      "metadata": {
        "colab": {
          "base_uri": "https://localhost:8080/"
        },
        "id": "isQzo3X_GW_K",
        "outputId": "95bb6857-f563-4292-8763-dd3f1fdfd7dc"
      },
      "execution_count": null,
      "outputs": [
        {
          "output_type": "stream",
          "name": "stderr",
          "text": [
            "/usr/local/lib/python3.11/dist-packages/langsmith/client.py:272: LangSmithMissingAPIKeyWarning: API key must be provided when using hosted LangSmith API\n",
            "  warnings.warn(\n",
            "WARNING:langsmith.client:Failed to multipart ingest runs: langsmith.utils.LangSmithAuthError: Authentication failed for https://api.smith.langchain.com/runs/multipart. HTTPError('401 Client Error: Unauthorized for url: https://api.smith.langchain.com/runs/multipart', '{\"error\":\"Unauthorized\"}\\n')trace=fb277332-b794-48cf-9c00-17b6b214be65,id=fb277332-b794-48cf-9c00-17b6b214be65; trace=fb277332-b794-48cf-9c00-17b6b214be65,id=6eb29ff2-84db-4236-9e8c-e2570ece07e5\n",
            "WARNING:langsmith.client:Failed to send compressed multipart ingest: langsmith.utils.LangSmithAuthError: Authentication failed for https://api.smith.langchain.com/runs/multipart. HTTPError('401 Client Error: Unauthorized for url: https://api.smith.langchain.com/runs/multipart', '{\"error\":\"Unauthorized\"}\\n')trace=fb277332-b794-48cf-9c00-17b6b214be65,id=6eb29ff2-84db-4236-9e8c-e2570ece07e5; trace=fb277332-b794-48cf-9c00-17b6b214be65,id=b3f5cb67-420e-4e78-919e-c483c031bc5c; trace=fb277332-b794-48cf-9c00-17b6b214be65,id=2d5c581f-6837-4e76-943a-3a0905a088b5; trace=fb277332-b794-48cf-9c00-17b6b214be65,id=2d5c581f-6837-4e76-943a-3a0905a088b5; trace=fb277332-b794-48cf-9c00-17b6b214be65,id=02927011-72a7-4cee-85b3-8fa2706ae077\n"
          ]
        },
        {
          "output_type": "stream",
          "name": "stdout",
          "text": [
            "An agent is an application that attempts to achieve a goal by observing the world and acting upon it using the tools at its disposal. Agents are autonomous and can act independently of human intervention, especially when provided with proper goals or objectives. They can also be proactive in their approach to reaching their goals.\n"
          ]
        }
      ]
    }
  ]
}